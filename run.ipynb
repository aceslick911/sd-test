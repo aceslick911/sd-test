{
 "cells": [
  {
   "cell_type": "code",
   "execution_count": null,
   "metadata": {},
   "outputs": [],
   "source": [
    "%cd /home/ubuntu\n",
    "\n",
    "%env TF_CPP_MIN_LOG_LEVEL=1\n",
    "%env TF_ENABLE_ONEDNN_OPTS=0\n",
    "\n",
    "!sudo apt -y update -qq\n",
    "!sudo apt -y install -qq aria2 libcairo2-dev pkg-config git-lfs\n",
    "!sudo apt -y install git python3.10-venv -y\n",
    "!git lfs install\n",
    "\n",
    "# !pip install -q torch==2.0.0+cu118 torchvision==0.15.1+cu118 torchaudio==2.0.1+cu118 torchtext==0.15.1 torchdata==0.6.0 --extra-index-url https://download.pytorch.org/whl/cu118 -U\n",
    "# !pip install -q xformers==0.0.19 triton==2.0.0 -U\n",
    "\n",
    "\n",
    "!git clone https://github.com/AUTOMATIC1111/stable-diffusion-webui\n",
    "!source venv/bin/activate\n",
    "\n",
    "!python3.10 -m venv venv\n",
    "# !!!!!\n",
    "# !./webui.sh\n",
    "\n",
    "!git clone https://huggingface.co/embed/negative /home/ubuntu/stable-diffusion-webui/embeddings/negative\n",
    "!git clone https://huggingface.co/embed/lora /home/ubuntu/stable-diffusion-webui/models/Lora/positive\n",
    "!aria2c --console-log-level=error -c -x 16 -s 16 -k 1M https://huggingface.co/embed/upscale/resolve/main/4x-UltraSharp.pth -d /home/ubuntu/stable-diffusion-webui/models/ESRGAN -o 4x-UltraSharp.pth\n",
    "!git clone https://github.com/AlUlkesh/stable-diffusion-webui-images-browser /home/ubuntu/stable-diffusion-webui/extensions/stable-diffusion-webui-images-browser\n",
    "!git clone https://github.com/camenduru/sd-civitai-browser /home/ubuntu/stable-diffusion-webui/extensions/sd-civitai-browser\n",
    "!git clone https://github.com/eskaviam/sd-webui-faceswaplab.git /home/ubuntu/stable-diffusion-webui/extensions/sd-webui-faceswaplab\n",
    "\n",
    "\n",
    "# !sed -i -e '''/    prepare_environment()/a\\    os.system\\(f\\\"\"\"sed -i -e ''\\\"s/dict()))/dict())).cuda()/g\\\"'' /home/ubuntu/stable-diffusion-webui/repositories/stable-diffusion-stability-ai/ldm/util.py\"\"\")''' /home/ubuntu/stable-diffusion-webui/launch.py\n",
    "# !sed -i -e 's/\\\"sd_model_checkpoint\\\"\\,/\\\"sd_model_checkpoint\\,sd_vae\\,CLIP_stop_at_last_layers\\\"\\,/g' /home/ubuntu/stable-diffusion-webui/modules/shared.py"
   ]
  },
  {
   "cell_type": "code",
   "execution_count": null,
   "metadata": {},
   "outputs": [],
   "source": [
    "%cd /home/ubuntu/stable-diffusion-webui\n",
    "# !python launch.py --listen --xformers --enable-insecure-extension-access --theme dark --gradio-queue --multiple\n",
    "# !python3 launch.py --listen --xformers --enable-insecure-extension-access --theme dark --gradio-queue --multiple > /home/ubuntu/stable-diffusion-webui/logs.txt 2>&1 &\n",
    "# ./webui.sh"
   ]
  }
 ],
 "metadata": {
  "language_info": {
   "name": "python"
  },
  "orig_nbformat": 4
 },
 "nbformat": 4,
 "nbformat_minor": 2
}
